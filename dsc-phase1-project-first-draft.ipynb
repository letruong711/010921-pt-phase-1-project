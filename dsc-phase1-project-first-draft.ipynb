{
 "cells": [
  {
   "cell_type": "markdown",
   "metadata": {},
   "source": [
    "![example](images/director_shot.jpeg)"
   ]
  },
  {
   "cell_type": "markdown",
   "metadata": {},
   "source": [
    "# Helping Microsoft take over the film industry.\n",
    "\n",
    "**Authors:** Le Truong\n",
    "***"
   ]
  },
  {
   "cell_type": "markdown",
   "metadata": {},
   "source": [
    "## Overview\n"
   ]
  },
  {
   "cell_type": "markdown",
   "metadata": {},
   "source": [
    "Microsoft is one of the world's longstanding leaders in technology. Aside from corporate sponsorships and Windows Media Player, they have remained silent and distant from the film industry. **This is all about to change!** Microsoft has recently teamed up with Flatiron School to help them identify what variable they need to focus on to produce a successful movie. There are many factors that determine a film's successes. In this presentation, I will focus on three variables that correlate with ratings to help point Microsoft in the right direction. "
   ]
  },
  {
   "cell_type": "markdown",
   "metadata": {},
   "source": [
    "## Data Understanding\n",
    "\n",
    "Describe the data being used for this project.\n",
    "- This data used for this presented was provided by Flatiron and contains IMDB ratings, genres, and runtimes. "
   ]
  },
  {
   "cell_type": "markdown",
   "metadata": {},
   "source": [
    "# Questions to be Answered\n",
    "\n",
    "- Does a movie's runtime impact it's ratings? \n",
    "- Are there specific genres?\n",
    "- Is there a correlation between a large production budget and higher ratings?"
   ]
  },
  {
   "cell_type": "markdown",
   "metadata": {},
   "source": [
    "## **First Question**: Do longer movies(<=300 minutes) have lower ratings than shorter movies? "
   ]
  },
  {
   "cell_type": "code",
   "execution_count": 10,
   "metadata": {
    "scrolled": true
   },
   "outputs": [
    {
     "ename": "OperationalError",
     "evalue": "near \"itb\": syntax error",
     "output_type": "error",
     "traceback": [
      "\u001b[1;31m---------------------------------------------------------------------------\u001b[0m",
      "\u001b[1;31mOperationalError\u001b[0m                          Traceback (most recent call last)",
      "\u001b[1;32m<ipython-input-10-b2efeb003b76>\u001b[0m in \u001b[0;36m<module>\u001b[1;34m\u001b[0m\n\u001b[1;32m----> 1\u001b[1;33m cur.execute(\"\"\"SELECT movie, production_budget, domestic_gross, worldwide_gross \n\u001b[0m\u001b[0;32m      2\u001b[0m                 \u001b[0mFROM\u001b[0m \u001b[0mtn_movie_budgets\u001b[0m \u001b[0mtmb\u001b[0m\u001b[1;33m\u001b[0m\u001b[1;33m\u001b[0m\u001b[0m\n\u001b[0;32m      3\u001b[0m                 \u001b[0mJOIN\u001b[0m \u001b[0mimdb_title_basics\u001b[0m\u001b[1;33m[\u001b[0m\u001b[0mgenres\u001b[0m\u001b[1;33m]\u001b[0m \u001b[0mitb\u001b[0m\u001b[1;33m\u001b[0m\u001b[1;33m\u001b[0m\u001b[0m\n\u001b[0;32m      4\u001b[0m                 ON itb.idx = tmb.idx;\"\"\")\n\u001b[0;32m      5\u001b[0m \u001b[0mdf\u001b[0m \u001b[1;33m=\u001b[0m \u001b[0mpd\u001b[0m\u001b[1;33m.\u001b[0m\u001b[0mDataFrame\u001b[0m\u001b[1;33m(\u001b[0m\u001b[0mcur\u001b[0m\u001b[1;33m.\u001b[0m\u001b[0mfetchall\u001b[0m\u001b[1;33m(\u001b[0m\u001b[1;33m)\u001b[0m\u001b[1;33m)\u001b[0m\u001b[1;33m\u001b[0m\u001b[1;33m\u001b[0m\u001b[0m\n",
      "\u001b[1;31mOperationalError\u001b[0m: near \"itb\": syntax error"
     ]
    }
   ],
   "source": [
    "cur.execute(\"\"\"SELECT movie, production_budget, domestic_gross, worldwide_gross \n",
    "                FROM tn_movie_budgets tmb\n",
    "                JOIN imdb_title_basics itb\n",
    "                ON itb.idx = tmb.idx;\"\"\")\n",
    "df = pd.DataFrame(cur.fetchall())\n",
    "df.head()"
   ]
  },
  {
   "cell_type": "markdown",
   "metadata": {},
   "source": [
    "## **Second Question**: Are there specific genres that get higher ratings?"
   ]
  },
  {
   "cell_type": "code",
   "execution_count": 18,
   "metadata": {},
   "outputs": [
    {
     "data": {
      "text/html": [
       "<div>\n",
       "<style scoped>\n",
       "    .dataframe tbody tr th:only-of-type {\n",
       "        vertical-align: middle;\n",
       "    }\n",
       "\n",
       "    .dataframe tbody tr th {\n",
       "        vertical-align: top;\n",
       "    }\n",
       "\n",
       "    .dataframe thead th {\n",
       "        text-align: right;\n",
       "    }\n",
       "</style>\n",
       "<table border=\"1\" class=\"dataframe\">\n",
       "  <thead>\n",
       "    <tr style=\"text-align: right;\">\n",
       "      <th></th>\n",
       "      <th>0</th>\n",
       "      <th>1</th>\n",
       "      <th>2</th>\n",
       "      <th>3</th>\n",
       "      <th>4</th>\n",
       "      <th>5</th>\n",
       "      <th>6</th>\n",
       "    </tr>\n",
       "  </thead>\n",
       "  <tbody>\n",
       "    <tr>\n",
       "      <th>0</th>\n",
       "      <td>0</td>\n",
       "      <td>1</td>\n",
       "      <td>Dec 18, 2009</td>\n",
       "      <td>Avatar</td>\n",
       "      <td>$425,000,000</td>\n",
       "      <td>$760,507,625</td>\n",
       "      <td>$2,776,345,279</td>\n",
       "    </tr>\n",
       "    <tr>\n",
       "      <th>1</th>\n",
       "      <td>1</td>\n",
       "      <td>2</td>\n",
       "      <td>May 20, 2011</td>\n",
       "      <td>Pirates of the Caribbean: On Stranger Tides</td>\n",
       "      <td>$410,600,000</td>\n",
       "      <td>$241,063,875</td>\n",
       "      <td>$1,045,663,875</td>\n",
       "    </tr>\n",
       "    <tr>\n",
       "      <th>2</th>\n",
       "      <td>2</td>\n",
       "      <td>3</td>\n",
       "      <td>Jun 7, 2019</td>\n",
       "      <td>Dark Phoenix</td>\n",
       "      <td>$350,000,000</td>\n",
       "      <td>$42,762,350</td>\n",
       "      <td>$149,762,350</td>\n",
       "    </tr>\n",
       "    <tr>\n",
       "      <th>3</th>\n",
       "      <td>3</td>\n",
       "      <td>4</td>\n",
       "      <td>May 1, 2015</td>\n",
       "      <td>Avengers: Age of Ultron</td>\n",
       "      <td>$330,600,000</td>\n",
       "      <td>$459,005,868</td>\n",
       "      <td>$1,403,013,963</td>\n",
       "    </tr>\n",
       "    <tr>\n",
       "      <th>4</th>\n",
       "      <td>4</td>\n",
       "      <td>5</td>\n",
       "      <td>Dec 15, 2017</td>\n",
       "      <td>Star Wars Ep. VIII: The Last Jedi</td>\n",
       "      <td>$317,000,000</td>\n",
       "      <td>$620,181,382</td>\n",
       "      <td>$1,316,721,747</td>\n",
       "    </tr>\n",
       "  </tbody>\n",
       "</table>\n",
       "</div>"
      ],
      "text/plain": [
       "   0  1             2                                            3  \\\n",
       "0  0  1  Dec 18, 2009                                       Avatar   \n",
       "1  1  2  May 20, 2011  Pirates of the Caribbean: On Stranger Tides   \n",
       "2  2  3   Jun 7, 2019                                 Dark Phoenix   \n",
       "3  3  4   May 1, 2015                      Avengers: Age of Ultron   \n",
       "4  4  5  Dec 15, 2017            Star Wars Ep. VIII: The Last Jedi   \n",
       "\n",
       "              4             5               6  \n",
       "0  $425,000,000  $760,507,625  $2,776,345,279  \n",
       "1  $410,600,000  $241,063,875  $1,045,663,875  \n",
       "2  $350,000,000   $42,762,350    $149,762,350  \n",
       "3  $330,600,000  $459,005,868  $1,403,013,963  \n",
       "4  $317,000,000  $620,181,382  $1,316,721,747  "
      ]
     },
     "execution_count": 18,
     "metadata": {},
     "output_type": "execute_result"
    }
   ],
   "source": [
    "cur.execute(\"\"\"SELECT * from tn_movie_budgets;\"\"\")\n",
    "df = pd.DataFrame(cur.fetchall())\n",
    "df.head()"
   ]
  },
  {
   "cell_type": "code",
   "execution_count": 11,
   "metadata": {},
   "outputs": [
    {
     "data": {
      "text/html": [
       "<div>\n",
       "<style scoped>\n",
       "    .dataframe tbody tr th:only-of-type {\n",
       "        vertical-align: middle;\n",
       "    }\n",
       "\n",
       "    .dataframe tbody tr th {\n",
       "        vertical-align: top;\n",
       "    }\n",
       "\n",
       "    .dataframe thead th {\n",
       "        text-align: right;\n",
       "    }\n",
       "</style>\n",
       "<table border=\"1\" class=\"dataframe\">\n",
       "  <thead>\n",
       "    <tr style=\"text-align: right;\">\n",
       "      <th></th>\n",
       "      <th>0</th>\n",
       "      <th>1</th>\n",
       "      <th>2</th>\n",
       "      <th>3</th>\n",
       "      <th>4</th>\n",
       "      <th>5</th>\n",
       "      <th>6</th>\n",
       "      <th>7</th>\n",
       "      <th>8</th>\n",
       "      <th>9</th>\n",
       "      <th>10</th>\n",
       "      <th>11</th>\n",
       "      <th>12</th>\n",
       "      <th>13</th>\n",
       "    </tr>\n",
       "  </thead>\n",
       "  <tbody>\n",
       "    <tr>\n",
       "      <th>0</th>\n",
       "      <td>16</td>\n",
       "      <td>17</td>\n",
       "      <td>May 6, 2016</td>\n",
       "      <td>Captain America: Civil War</td>\n",
       "      <td>$250,000,000</td>\n",
       "      <td>$408,084,349</td>\n",
       "      <td>$1,140,069,413</td>\n",
       "      <td>16</td>\n",
       "      <td>tt0187902</td>\n",
       "      <td>How Huang Fei-hong Rescued the Orphan from the...</td>\n",
       "      <td>How Huang Fei-hong Rescued the Orphan from the...</td>\n",
       "      <td>2011</td>\n",
       "      <td>NaN</td>\n",
       "      <td>None</td>\n",
       "    </tr>\n",
       "    <tr>\n",
       "      <th>1</th>\n",
       "      <td>56</td>\n",
       "      <td>57</td>\n",
       "      <td>Jun 24, 2011</td>\n",
       "      <td>Cars 2</td>\n",
       "      <td>$200,000,000</td>\n",
       "      <td>$191,450,875</td>\n",
       "      <td>$560,155,383</td>\n",
       "      <td>56</td>\n",
       "      <td>tt0364201</td>\n",
       "      <td>Aman Ke Farishtey</td>\n",
       "      <td>Aman Ke Farishtey</td>\n",
       "      <td>2016</td>\n",
       "      <td>137.0</td>\n",
       "      <td>Action</td>\n",
       "    </tr>\n",
       "    <tr>\n",
       "      <th>2</th>\n",
       "      <td>1238</td>\n",
       "      <td>39</td>\n",
       "      <td>Nov 27, 2002</td>\n",
       "      <td>Solaris</td>\n",
       "      <td>$47,000,000</td>\n",
       "      <td>$14,970,038</td>\n",
       "      <td>$14,970,038</td>\n",
       "      <td>1238</td>\n",
       "      <td>tt10097958</td>\n",
       "      <td>Gripped: Climbing Killer Pillar</td>\n",
       "      <td>Gripped: Climbing Killer Pillar</td>\n",
       "      <td>2019</td>\n",
       "      <td>NaN</td>\n",
       "      <td>Action,Adventure</td>\n",
       "    </tr>\n",
       "    <tr>\n",
       "      <th>3</th>\n",
       "      <td>126</td>\n",
       "      <td>27</td>\n",
       "      <td>May 21, 2010</td>\n",
       "      <td>Shrek Forever After</td>\n",
       "      <td>$165,000,000</td>\n",
       "      <td>$238,736,787</td>\n",
       "      <td>$756,244,673</td>\n",
       "      <td>126</td>\n",
       "      <td>tt0448694</td>\n",
       "      <td>Puss in Boots</td>\n",
       "      <td>Puss in Boots</td>\n",
       "      <td>2011</td>\n",
       "      <td>90.0</td>\n",
       "      <td>Action,Adventure,Animation</td>\n",
       "    </tr>\n",
       "    <tr>\n",
       "      <th>4</th>\n",
       "      <td>125</td>\n",
       "      <td>26</td>\n",
       "      <td>May 27, 2016</td>\n",
       "      <td>Alice Through the Looking Glass</td>\n",
       "      <td>$170,000,000</td>\n",
       "      <td>$77,042,381</td>\n",
       "      <td>$276,928,112</td>\n",
       "      <td>125</td>\n",
       "      <td>tt0448115</td>\n",
       "      <td>Shazam!</td>\n",
       "      <td>Shazam!</td>\n",
       "      <td>2019</td>\n",
       "      <td>132.0</td>\n",
       "      <td>Action,Adventure,Comedy</td>\n",
       "    </tr>\n",
       "  </tbody>\n",
       "</table>\n",
       "</div>"
      ],
      "text/plain": [
       "     0   1             2                                3             4   \\\n",
       "0    16  17   May 6, 2016       Captain America: Civil War  $250,000,000   \n",
       "1    56  57  Jun 24, 2011                           Cars 2  $200,000,000   \n",
       "2  1238  39  Nov 27, 2002                          Solaris   $47,000,000   \n",
       "3   126  27  May 21, 2010              Shrek Forever After  $165,000,000   \n",
       "4   125  26  May 27, 2016  Alice Through the Looking Glass  $170,000,000   \n",
       "\n",
       "             5               6     7           8   \\\n",
       "0  $408,084,349  $1,140,069,413    16   tt0187902   \n",
       "1  $191,450,875    $560,155,383    56   tt0364201   \n",
       "2   $14,970,038     $14,970,038  1238  tt10097958   \n",
       "3  $238,736,787    $756,244,673   126   tt0448694   \n",
       "4   $77,042,381    $276,928,112   125   tt0448115   \n",
       "\n",
       "                                                  9   \\\n",
       "0  How Huang Fei-hong Rescued the Orphan from the...   \n",
       "1                                  Aman Ke Farishtey   \n",
       "2                    Gripped: Climbing Killer Pillar   \n",
       "3                                      Puss in Boots   \n",
       "4                                            Shazam!   \n",
       "\n",
       "                                                  10    11     12  \\\n",
       "0  How Huang Fei-hong Rescued the Orphan from the...  2011    NaN   \n",
       "1                                  Aman Ke Farishtey  2016  137.0   \n",
       "2                    Gripped: Climbing Killer Pillar  2019    NaN   \n",
       "3                                      Puss in Boots  2011   90.0   \n",
       "4                                            Shazam!  2019  132.0   \n",
       "\n",
       "                           13  \n",
       "0                        None  \n",
       "1                      Action  \n",
       "2            Action,Adventure  \n",
       "3  Action,Adventure,Animation  \n",
       "4     Action,Adventure,Comedy  "
      ]
     },
     "execution_count": 11,
     "metadata": {},
     "output_type": "execute_result"
    }
   ],
   "source": [
    "cur.execute(\"\"\"SELECT * FROM tn_movie_budgets tmb\n",
    "                JOIN imdb_title_basics itb\n",
    "                ON tmb.idx = itb.idx\n",
    "                GROUP BY genres;\"\"\")\n",
    "df = pd.DataFrame(cur.fetchall())\n",
    "df.head()"
   ]
  },
  {
   "cell_type": "markdown",
   "metadata": {},
   "source": [
    "## Third Question: How will product budgets impact ratings?"
   ]
  },
  {
   "cell_type": "markdown",
   "metadata": {},
   "source": [
    "## Data Preparation\n",
    "\n",
    "Describe and justify the process for preparing the data for analysis.\n",
    "\n",
    "***\n",
    "Questions to consider:\n",
    "* Were there variables you dropped or created?\n",
    "* How did you address missing values or outliers?\n",
    "* Why are these choices appropriate given the data and the business problem?\n",
    "***"
   ]
  },
  {
   "cell_type": "code",
   "execution_count": 6,
   "metadata": {},
   "outputs": [],
   "source": [
    "# Here you run your code to clean the data"
   ]
  },
  {
   "cell_type": "markdown",
   "metadata": {},
   "source": [
    "## Data Modeling\n",
    "Describe and justify the process for analyzing or modeling the data.\n",
    "\n",
    "***\n",
    "Questions to consider:\n",
    "* How did you analyze or model the data?\n",
    "* How did you iterate on your initial approach to make it better?\n",
    "* Why are these choices appropriate given the data and the business problem?\n",
    "***"
   ]
  },
  {
   "cell_type": "code",
   "execution_count": null,
   "metadata": {},
   "outputs": [],
   "source": [
    "# Here you run your code to model the data\n"
   ]
  },
  {
   "cell_type": "markdown",
   "metadata": {},
   "source": [
    "## Evaluation\n",
    "Evaluate how well your work solves the stated business problem.\n",
    "\n",
    "***\n",
    "Questions to consider:\n",
    "* How do you interpret the results?\n",
    "* How well does your model fit your data? How much better is this than your baseline model?\n",
    "* How confident are you that your results would generalize beyond the data you have?\n",
    "* How confident are you that this model would benefit the business if put into use?\n",
    "***"
   ]
  },
  {
   "cell_type": "markdown",
   "metadata": {},
   "source": [
    "## Conclusions\n",
    "Provide your conclusions about the work you've done, including any limitations or next steps.\n",
    "- There are no correlation between movie's runtime and its ratings.\n",
    "- There are specific genre's commonly rated higher than others.\n",
    "- There is no correlation between a movie's production budget and its ratings."
   ]
  },
  {
   "cell_type": "markdown",
   "metadata": {},
   "source": [
    "## What's next? How can we use this data in the future? \n",
    "\n",
    "Questions to consider:\n",
    "\n",
    "* Is there too much data?\n",
    "* What are some reasons why your analysis might not fully solve the business problem?\n",
    "* What else could you do in the future to improve this project?\n",
    "***"
   ]
  },
  {
   "cell_type": "code",
   "execution_count": null,
   "metadata": {},
   "outputs": [],
   "source": []
  }
 ],
 "metadata": {
  "kernelspec": {
   "display_name": "Python 3",
   "language": "python",
   "name": "python3"
  },
  "language_info": {
   "codemirror_mode": {
    "name": "ipython",
    "version": 3
   },
   "file_extension": ".py",
   "mimetype": "text/x-python",
   "name": "python",
   "nbconvert_exporter": "python",
   "pygments_lexer": "ipython3",
   "version": "3.8.5"
  }
 },
 "nbformat": 4,
 "nbformat_minor": 4
}
